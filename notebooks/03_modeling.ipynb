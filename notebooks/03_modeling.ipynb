{
 "cells": [
  {
   "cell_type": "code",
   "execution_count": null,
   "metadata": {
    "vscode": {
     "languageId": "plaintext"
    }
   },
   "outputs": [],
   "source": [
    "# 03_modeling.ipynb\n",
    "\n",
    "from src.models.train_model import train_arima_model, train_lstm_model\n",
    "\n",
    "# Train ARIMA Model\n",
    "arima_model = train_arima_model('data/processed/ARE_data_cleaned.csv')\n",
    "\n",
    "# Train LSTM Model\n",
    "lstm_model = train_lstm_model('data/processed/ARE_data_cleaned.csv')\n"
   ]
  }
 ],
 "metadata": {
  "language_info": {
   "name": "python"
  }
 },
 "nbformat": 4,
 "nbformat_minor": 2
}
